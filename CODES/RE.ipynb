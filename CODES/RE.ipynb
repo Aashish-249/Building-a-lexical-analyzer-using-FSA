{
 "cells": [
  {
   "cell_type": "code",
   "execution_count": 5,
   "metadata": {},
   "outputs": [
    {
     "name": "stdout",
     "output_type": "stream",
     "text": [
      "[('identifier', 'int'), ('identifier', 'x'), ('symbol', '='), ('integer', '5'), ('symbol', '+'), ('integer', '6'), ('symbol', ';')]\n"
     ]
    }
   ],
   "source": [
    "import re\n",
    "\n",
    "def lexer(text):\n",
    "    # Set up the FSA\n",
    "    state = \"start\"\n",
    "    lexeme = \"\"\n",
    "    tokens = []\n",
    "\n",
    "    # Define the FSA transitions\n",
    "    def start_state(char):\n",
    "        nonlocal state, lexeme\n",
    "        if char.isspace():\n",
    "            state = \"start\"\n",
    "        elif char.isalpha():\n",
    "            state = \"identifier\"\n",
    "            lexeme += char\n",
    "        elif char.isdigit():\n",
    "            state = \"integer\"\n",
    "            lexeme += char\n",
    "        else:\n",
    "            state = \"symbol\"\n",
    "            lexeme += char\n",
    "\n",
    "    def identifier_state(char):\n",
    "        nonlocal state, lexeme\n",
    "        if char.isalpha() or char.isdigit():\n",
    "            lexeme += char\n",
    "        else:\n",
    "            tokens.append((\"identifier\", lexeme))\n",
    "            lexeme = \"\"\n",
    "            start_state(char)\n",
    "    \n",
    "    def integer_state(char):\n",
    "        nonlocal state, lexeme\n",
    "        if char.isdigit():\n",
    "            lexeme += char\n",
    "        else:\n",
    "            tokens.append((\"integer\", lexeme))\n",
    "            lexeme = \"\"\n",
    "            start_state(char)\n",
    "\n",
    "    def symbol_state(char):\n",
    "        nonlocal state, lexeme\n",
    "        tokens.append((\"symbol\", lexeme))\n",
    "        lexeme = \"\"\n",
    "        start_state(char)\n",
    "\n",
    "    # Define the FSA states\n",
    "    states = {\n",
    "        \"start\": start_state,\n",
    "        \"identifier\": identifier_state,\n",
    "        \"integer\": integer_state,\n",
    "        \"symbol\": symbol_state\n",
    "    }\n",
    "\n",
    "    # Iterate through the characters in the input text\n",
    "    for char in text:\n",
    "        states[state](char)\n",
    "\n",
    "    # Add any remaining lexemes to the tokens list\n",
    "    if lexeme:\n",
    "        tokens.append((state, lexeme))\n",
    "\n",
    "    return tokens\n",
    "\n",
    "# Test the lexer\n",
    "text = \"int x = 5 + 6;\"\n",
    "print(lexer(text))"
   ]
  },
  {
   "cell_type": "code",
   "execution_count": null,
   "metadata": {},
   "outputs": [],
   "source": []
  }
 ],
 "metadata": {
  "kernelspec": {
   "display_name": "Python 3",
   "language": "python",
   "name": "python3"
  },
  "language_info": {
   "codemirror_mode": {
    "name": "ipython",
    "version": 3
   },
   "file_extension": ".py",
   "mimetype": "text/x-python",
   "name": "python",
   "nbconvert_exporter": "python",
   "pygments_lexer": "ipython3",
   "version": "3.8.5"
  }
 },
 "nbformat": 4,
 "nbformat_minor": 5
}
